{
 "cells": [
  {
   "cell_type": "code",
   "execution_count": 1,
   "id": "a0cf9512-f015-4f92-9b8d-52c3b4d425d6",
   "metadata": {},
   "outputs": [],
   "source": [
    "import numpy as np\n",
    "from fxpmath import Fxp\n",
    "from FPGAJacobi.Cordic import Cordic_TV_generator\n",
    "from tqdm import tqdm\n",
    "import os"
   ]
  },
  {
   "cell_type": "code",
   "execution_count": 2,
   "id": "054ee200-d821-4813-92bf-fed722ce786a",
   "metadata": {},
   "outputs": [],
   "source": [
    "n_vectors = 50\n",
    "name = \"cordic_rotation_test\"\n",
    "\n",
    "n_iter = 16\n",
    "\n",
    "n_word = 20\n",
    "n_frac = 15\n",
    "is_signed = True"
   ]
  },
  {
   "cell_type": "code",
   "execution_count": 3,
   "id": "30fed47f-d322-4db2-9483-cb172dc51a3d",
   "metadata": {},
   "outputs": [],
   "source": [
    "rotation_cordic_generator = Cordic_TV_generator(name, n_vectors, n_iter, n_word, n_frac, is_signed, \"rotation\")"
   ]
  },
  {
   "cell_type": "code",
   "execution_count": 4,
   "id": "b4968bbf-d0a9-48f6-aebc-58d5a65288a5",
   "metadata": {},
   "outputs": [
    {
     "name": "stdout",
     "output_type": "stream",
     "text": [
      "[WinError 183] Nie można utworzyć pliku, który już istnieje: '..//TV//cordic_rotation_test'\n"
     ]
    },
    {
     "name": "stderr",
     "output_type": "stream",
     "text": [
      "100%|██████████████████████████████████████████████████████████████████████████████████| 50/50 [00:04<00:00, 11.65it/s]\n"
     ]
    }
   ],
   "source": [
    "np.random.seed(2137)\n",
    "rotation_cordic_generator.run()"
   ]
  },
  {
   "cell_type": "code",
   "execution_count": 5,
   "id": "69856180-e135-4411-b003-708777841bad",
   "metadata": {},
   "outputs": [],
   "source": [
    "n_vectors = 50\n",
    "name = \"cordic_vectoring_test\"\n",
    "\n",
    "n_iter = 16\n",
    "\n",
    "n_word = 20\n",
    "n_frac = 15\n",
    "is_signed = True"
   ]
  },
  {
   "cell_type": "code",
   "execution_count": 6,
   "id": "66e61d7f-116d-4164-beb4-296f7591f729",
   "metadata": {},
   "outputs": [],
   "source": [
    "vectoring_cordic_generator = Cordic_TV_generator(name, n_vectors, n_iter, n_word, n_frac, is_signed, \"vectoring\")"
   ]
  },
  {
   "cell_type": "code",
   "execution_count": 7,
   "id": "474d4ac7-3c43-486a-80ce-3d92ec3f1749",
   "metadata": {},
   "outputs": [
    {
     "name": "stdout",
     "output_type": "stream",
     "text": [
      "[WinError 183] Nie można utworzyć pliku, który już istnieje: '..//TV//cordic_vectoring_test'\n"
     ]
    },
    {
     "name": "stderr",
     "output_type": "stream",
     "text": [
      "100%|██████████████████████████████████████████████████████████████████████████████████| 50/50 [00:05<00:00,  9.18it/s]\n"
     ]
    }
   ],
   "source": [
    "vectoring_cordic_generator.run()"
   ]
  },
  {
   "cell_type": "code",
   "execution_count": 46,
   "id": "5a8be9f4-be79-4fc9-8dc3-dcf23db51b7b",
   "metadata": {},
   "outputs": [
    {
     "data": {
      "text/plain": [
       "3.0517578125e-05"
      ]
     },
     "execution_count": 46,
     "metadata": {},
     "output_type": "execute_result"
    }
   ],
   "source": [
    "n_word = 20\n",
    "n_frac = 15\n",
    "#x = Fxp(1.008453369140625,n_word = n_word, n_frac = n_frac, signed = True, rounding = \"around\")\n",
    "x = Fxp(7.1,n_word = n_word, n_frac = n_frac, signed = True, rounding = \"around\")\n",
    "x.equal(x >> 1)\n",
    "x.precision"
   ]
  },
  {
   "cell_type": "code",
   "execution_count": null,
   "id": "287394ce-1d83-4371-a013-ef15cb1875e8",
   "metadata": {},
   "outputs": [],
   "source": []
  }
 ],
 "metadata": {
  "kernelspec": {
   "display_name": "Python 3 (ipykernel)",
   "language": "python",
   "name": "python3"
  },
  "language_info": {
   "codemirror_mode": {
    "name": "ipython",
    "version": 3
   },
   "file_extension": ".py",
   "mimetype": "text/x-python",
   "name": "python",
   "nbconvert_exporter": "python",
   "pygments_lexer": "ipython3",
   "version": "3.8.10"
  }
 },
 "nbformat": 4,
 "nbformat_minor": 5
}
