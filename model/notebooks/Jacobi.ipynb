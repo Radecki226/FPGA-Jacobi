{
 "cells": [
  {
   "cell_type": "code",
   "execution_count": 1,
   "id": "073a76b9-16ef-45ec-ad44-e4c5188c110f",
   "metadata": {},
   "outputs": [],
   "source": [
    "import numpy as np\n",
    "from fxpmath import Fxp\n",
    "import matplotlib.pyplot as plt\n",
    "from FPGAJacobi.Cordic import Cordic\n",
    "from FPGAJacobi.Jacobi import Jacobi"
   ]
  },
  {
   "cell_type": "code",
   "execution_count": 2,
   "id": "f3290784-c7ec-4aa7-9ead-ee1af009f232",
   "metadata": {},
   "outputs": [],
   "source": [
    "n_iter = 16\n",
    "n_word = 20\n",
    "n_frac = 15\n",
    "is_signed = True\n",
    "N = 8\n",
    "n_sweeps = 4\n",
    "jacobi = Jacobi(n_cordic_iterations = n_iter, n_word = n_word, n_frac = n_frac, is_signed = is_signed, matrix_dim = N,\n",
    "                n_sweeps = n_sweeps)\n"
   ]
  },
  {
   "cell_type": "code",
   "execution_count": 7,
   "id": "69128458-8754-4815-ad1b-720ffa821d50",
   "metadata": {},
   "outputs": [
    {
     "name": "stdout",
     "output_type": "stream",
     "text": [
      "Input matrix: \n",
      "[[-0.06109619 -0.09866333 -0.02084351  0.54129028 -0.24142456  0.16287231\n",
      "  -0.12789917 -0.16470337]\n",
      " [-0.09866333 -0.72384644 -0.43328857 -0.57125854 -0.09118652  0.66287231\n",
      "  -0.06607056 -0.44891357]\n",
      " [-0.02084351 -0.43328857  0.25878906  0.29367065 -0.44955444  0.02926636\n",
      "  -0.26965332 -0.46716309]\n",
      " [ 0.54129028 -0.57125854  0.29367065  0.17654419 -0.27352905  0.4855957\n",
      "  -0.38226318 -0.09335327]\n",
      " [-0.24142456 -0.09118652 -0.44955444 -0.27352905  0.82226562  0.07684326\n",
      "   0.14956665 -0.13592529]\n",
      " [ 0.16287231  0.66287231  0.02926636  0.4855957   0.07684326  0.26782227\n",
      "   0.01010132 -0.07229614]\n",
      " [-0.12789917 -0.06607056 -0.26965332 -0.38226318  0.14956665  0.01010132\n",
      "  -0.1920166  -0.21502686]\n",
      " [-0.16470337 -0.44891357 -0.46716309 -0.09335327 -0.13592529 -0.07229614\n",
      "  -0.21502686  0.00714111]]\n"
     ]
    }
   ],
   "source": [
    "np.random.seed(1221)\n",
    "np.set_printoptions(suppress=True)\n",
    "n_word_in = 16\n",
    "A = (np.random.rand(N,N)*2)-1\n",
    "A = (A + A.T)/2\n",
    "A_cp = np.copy(A)\n",
    "A = Fxp(A, n_word = n_word_in, n_frac = n_frac, signed = is_signed, rounding = \"around\")\n",
    "print(\"Input matrix: \\n{A}\".format(A=A))"
   ]
  },
  {
   "cell_type": "code",
   "execution_count": 5,
   "id": "f174e944-a96c-48ab-8163-4ed039b764c8",
   "metadata": {},
   "outputs": [
    {
     "name": "stdout",
     "output_type": "stream",
     "text": [
      "Sweep 4/4\r"
     ]
    }
   ],
   "source": [
    "A_out, V_out = jacobi.run(A)"
   ]
  },
  {
   "cell_type": "code",
   "execution_count": 23,
   "id": "af3e4a3c-eaea-46f9-ba12-0bcbb3f86dea",
   "metadata": {},
   "outputs": [
    {
     "name": "stdout",
     "output_type": "stream",
     "text": [
      "Real Eigenvalues: \n",
      "[-1.67256926 -0.69450026 -0.3343503  -0.04906062  0.44754519  0.48666888\n",
      "  0.83047741  1.5414185 ]\n",
      "\n",
      "Real Eigenvectors: \n",
      "[[-0.64186433 -0.5694489  -0.30614032 -0.2597344  -0.21493112 -0.18734031\n",
      "  -0.03469963  0.14162783]\n",
      " [-0.73806294 -0.31371602 -0.29487867  0.04036831  0.05099814  0.12489703\n",
      "   0.14164796  0.47958117]\n",
      " [-0.62788294 -0.44726759 -0.42512955 -0.25298083  0.07547239  0.11231026\n",
      "   0.13065661  0.35440015]\n",
      " [-0.51568387 -0.46566984 -0.34414829 -0.27295467 -0.04669985  0.05476694\n",
      "   0.22176145  0.51953923]\n",
      " [-0.55911803 -0.39477834 -0.38045759 -0.13524508 -0.12880435 -0.07999755\n",
      "   0.09401103  0.5802324 ]\n",
      " [-0.73022474 -0.20558392 -0.13998976  0.21351487  0.2243526   0.25301082\n",
      "   0.33953312  0.36012503]\n",
      " [-0.42536321 -0.20551955 -0.09710015 -0.09413459 -0.01310892  0.20664325\n",
      "   0.23974388  0.81128768]\n",
      " [-0.39122078 -0.3338533  -0.31226608  0.08057238  0.2091095   0.29330159\n",
      "   0.37301244  0.60215893]]\n",
      "\n",
      "Calculated Eigenvalues: \n",
      "[-1.67028809 -0.69311523 -0.33377075 -0.04879761  0.44702148  0.48587036\n",
      "  0.82901001  1.53894043]\n",
      "\n",
      "Calculated Eigenvectors: \n",
      "[-0.01312256  0.03460693  0.04669189  0.0508728   0.08035278  0.11212158\n",
      "  0.21295166  0.37973022]\n"
     ]
    }
   ],
   "source": [
    "w,v = np.linalg.eig(A_cp)\n",
    "print(\"Real Eigenvalues: \\n{w}\\n\".format(w = np.sort(w)))\n",
    "print(\"Real Eigenvectors: \\n{v}\\n\".format(v = np.sort(v)))\n",
    "print(\"Calculated Eigenvalues: \\n{w}\\n\".format(w = np.sort(np.diag(A_out))))\n",
    "print(\"Calculated Eigenvectors: \\n{v}\".format(v = np.sort(np.diag(V_out))))"
   ]
  },
  {
   "cell_type": "code",
   "execution_count": 24,
   "id": "61985b88-9ce6-439b-9a87-48e2497e8cf7",
   "metadata": {},
   "outputs": [
    {
     "name": "stdout",
     "output_type": "stream",
     "text": [
      "Mean error value: \n",
      "0.00022498346100259506\n"
     ]
    }
   ],
   "source": [
    "def sort_eigenvectors(v):\n",
    "    x = v[:,v[0,:].argsort()]\n",
    "    return x\n",
    "\n",
    "real = sort_eigenvectors(np.abs(v))\n",
    "calculated = sort_eigenvectors(np.abs(V_out))\n",
    "err = np.sum(np.array(real-calculated))/N**2\n",
    "print(\"Mean error value: \\n{err}\".format(err = err))"
   ]
  }
 ],
 "metadata": {
  "kernelspec": {
   "display_name": "Python 3 (ipykernel)",
   "language": "python",
   "name": "python3"
  },
  "language_info": {
   "codemirror_mode": {
    "name": "ipython",
    "version": 3
   },
   "file_extension": ".py",
   "mimetype": "text/x-python",
   "name": "python",
   "nbconvert_exporter": "python",
   "pygments_lexer": "ipython3",
   "version": "3.8.10"
  }
 },
 "nbformat": 4,
 "nbformat_minor": 5
}
