{
 "cells": [
  {
   "cell_type": "code",
   "execution_count": 1,
   "id": "073a76b9-16ef-45ec-ad44-e4c5188c110f",
   "metadata": {},
   "outputs": [],
   "source": [
    "import numpy as np\n",
    "from fxpmath import Fxp\n",
    "import matplotlib.pyplot as plt\n",
    "from FPGAJacobi.Cordic import Cordic"
   ]
  },
  {
   "cell_type": "code",
   "execution_count": 2,
   "id": "77ac2114-4c22-43d2-8efb-1d7f11d52dd5",
   "metadata": {},
   "outputs": [
    {
     "ename": "SyntaxError",
     "evalue": "invalid syntax (2266836641.py, line 28)",
     "output_type": "error",
     "traceback": [
      "\u001b[1;36m  Input \u001b[1;32mIn [2]\u001b[1;36m\u001b[0m\n\u001b[1;33m    def update\u001b[0m\n\u001b[1;37m              ^\u001b[0m\n\u001b[1;31mSyntaxError\u001b[0m\u001b[1;31m:\u001b[0m invalid syntax\n"
     ]
    }
   ],
   "source": [
    "class Jacobi:\n",
    "    def __init__(self, \n",
    "                 n_cordic_iterations : int = 12, \n",
    "                 n_word : int = 17, \n",
    "                 n_frac : int = 15, \n",
    "                 is_signed : bool = True,\n",
    "                 matrix_dim : int = 12):\n",
    "                 \n",
    "    \n",
    "        self._n_word = n_word\n",
    "        self._n_frac = n_frac\n",
    "        self._is_signed = is_signed\n",
    "        self._rotation_cordic = Cordic(mode = \"rotation\", \n",
    "                              n_iterations = n_cordic_iterations, \n",
    "                              n_word = self._n_word, \n",
    "                              n_frac = self._n_frac, \n",
    "                              is_signed = True)\n",
    "        self._vectoring_cordic = Cordic(mode = \"vectoring\", \n",
    "                              n_iterations = n_cordic_iterations, \n",
    "                              n_word = self._n_word, \n",
    "                              n_frac = self._n_frac, \n",
    "                              is_signed = True)\n",
    "        self._N = matrix_dim\n",
    "        self._A = Fxp(np.zeros((_N, _N)), n_word = self._n_word, n_frac = self._n_frac, signed = self._is_signed)\n",
    "        self._W = Fxp(np.zeros((_N, _N)), n_word = self._n_word, n_frac = self._n_frac, signed = self._is_signed)\n",
    "    \n",
    "    def get_A(A : Fxp):\n",
    "        self._A.equal(A)\n",
    "    \n",
    "    def init_W():\n",
    "        self._W.set_val(np.eye(self._N))\n",
    "        \n",
    "    def update_A(i,j):\n",
    "        _, _, theta = self._vectoring_cordic(A[i,j] << 1, A[i,i] - A[i,j], 0)\n",
    "        \n",
    "        #diagonal\n",
    "        temp_ii, temp_jj, _ = self._rotation_cordic(A[i,i], A[j,j], theta)\n",
    "        A[i,i], A[j,j], _ = self._rotation_cordic(temp_ii, temp_jj, theta)\n",
    "        \n",
    "        #not diagonal i,j\n",
    "        A[i,j] = A[j,i] = 0\n",
    "        \n",
    "        #not diagonal != i,j\n",
    "        for k in range(self._N):\n",
    "            if (k != i and k != j):\n",
    "                A[k,i], A[k,j], _ = self.rotation_cordic(A[k,i], A[k,j], theta)\n",
    "                A[i,k] = A[k,i]\n",
    "                A[j,k] = A[k,j]\n",
    "            \n",
    "        \n",
    "        \n",
    "                 \n",
    "        \n",
    "        "
   ]
  },
  {
   "cell_type": "code",
   "execution_count": null,
   "id": "f3290784-c7ec-4aa7-9ead-ee1af009f232",
   "metadata": {},
   "outputs": [],
   "source": []
  }
 ],
 "metadata": {
  "kernelspec": {
   "display_name": "Python 3 (ipykernel)",
   "language": "python",
   "name": "python3"
  },
  "language_info": {
   "codemirror_mode": {
    "name": "ipython",
    "version": 3
   },
   "file_extension": ".py",
   "mimetype": "text/x-python",
   "name": "python",
   "nbconvert_exporter": "python",
   "pygments_lexer": "ipython3",
   "version": "3.8.10"
  }
 },
 "nbformat": 4,
 "nbformat_minor": 5
}
