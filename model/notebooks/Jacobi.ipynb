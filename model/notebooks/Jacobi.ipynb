{
 "cells": [
  {
   "cell_type": "code",
   "execution_count": 11,
   "id": "073a76b9-16ef-45ec-ad44-e4c5188c110f",
   "metadata": {},
   "outputs": [],
   "source": [
    "import numpy as np\n",
    "from fxpmath import Fxp\n",
    "import matplotlib.pyplot as plt\n",
    "from FPGAJacobi.Cordic import Cordic"
   ]
  },
  {
   "cell_type": "code",
   "execution_count": 12,
   "id": "77ac2114-4c22-43d2-8efb-1d7f11d52dd5",
   "metadata": {},
   "outputs": [],
   "source": [
    "class Jacobi:\n",
    "    def __init__(self, \n",
    "                 n_cordic_iterations : int = 12, \n",
    "                 n_word : int = 18, \n",
    "                 n_frac : int = 15, \n",
    "                 is_signed : bool = True,\n",
    "                 matrix_dim : int = 12,\n",
    "                 n_sweeps : int = 1):\n",
    "                \n",
    "                 \n",
    "    \n",
    "        self._n_word = n_word\n",
    "        self._n_frac = n_frac\n",
    "        self._is_signed = is_signed\n",
    "        self._rotation_cordic = Cordic(mode = \"rotation\", \n",
    "                              n_iterations = n_cordic_iterations, \n",
    "                              n_word = self._n_word, \n",
    "                              n_frac = self._n_frac, \n",
    "                              is_signed = True)\n",
    "        self._vectoring_cordic = Cordic(mode = \"vectoring\", \n",
    "                              n_iterations = n_cordic_iterations, \n",
    "                              n_word = self._n_word, \n",
    "                              n_frac = self._n_frac, \n",
    "                              is_signed = True)\n",
    "        self._N = matrix_dim\n",
    "        self._A = Fxp(np.zeros((self._N, self._N)), n_word = self._n_word, n_frac = self._n_frac, signed = self._is_signed,\n",
    "                      rounding = \"around\")\n",
    "        self._V = Fxp(np.zeros((self._N, self._N)), n_word = self._n_word, n_frac = self._n_frac, signed = self._is_signed,\n",
    "                      rounding = \"around\")\n",
    "        \n",
    "        self._round_state = np.arange(self._N)\n",
    "        \n",
    "        self._n_sweeps = n_sweeps\n",
    "        \n",
    "    \n",
    "    def get_A(self, A : Fxp):\n",
    "        self._A.equal(A)\n",
    "    \n",
    "    def init_V(self):\n",
    "        self._V.set_val(np.eye(self._N))\n",
    "        \n",
    "    def init_round_state(self):\n",
    "        self._round_state = np.arange(self._N)\n",
    "        \n",
    "    def update_matrices(self, i,j):\n",
    "        \n",
    "        zero = Fxp(0, n_word = self._n_word, n_frac = self._n_frac, signed = self._is_signed, rounding = \"around\")\n",
    "        \n",
    "        Aij2 = self._A[i,j] << 1\n",
    "        pi_to_add = 0*zero\n",
    "        sign = 0*zero\n",
    "        \n",
    "        #hadle |2theta| > 90 degrees \n",
    "        if (self._A[j,j] > self._A[i,i]):\n",
    "            Ajj_ii= self._A[j,j] - self._A[i,i]     \n",
    "        else:\n",
    "            Ajj_ii= -self._A[j,j] + self._A[i,i]\n",
    "            Aij2 = - Aij2\n",
    "            pi_to_add.set_val(np.pi)\n",
    "        \n",
    "        if (Aij2 > 0):\n",
    "            sign.set_val(-1)\n",
    "        else:\n",
    "            sign.set_val(1)\n",
    "        \n",
    "        x, y, theta = self._vectoring_cordic.run(Ajj_ii, Aij2, zero)\n",
    "        theta = (theta + sign*pi_to_add) >> 1\n",
    "        \n",
    "        #diagonal\n",
    "        temp_ii_i, temp_ii_j, _ = self._rotation_cordic.run(self._A[i,i], self._A[i,j], theta)\n",
    "        temp_jj_i, temp_jj_j, _ = self._rotation_cordic.run(self._A[i,j], self._A[j,j], theta)\n",
    "        self._A[i,i], _, _ = self._rotation_cordic.run(temp_ii_i, temp_jj_i, theta)\n",
    "        _, self._A[j,j], _ = self._rotation_cordic.run(temp_ii_j, temp_jj_j, theta)\n",
    "          \n",
    "        #not diagonal i,j\n",
    "        self._A[i,j] = self._A[j,i] = 0\n",
    "        \n",
    "        #not diagonal != i,j\n",
    "        for k in range(self._N):\n",
    "            if (k != i and k != j):\n",
    "                self._A[k,i], self._A[k,j], _ = self._rotation_cordic.run(self._A[k,i], self._A[k,j], theta)\n",
    "                self._A[i,k] = self._A[k,i]\n",
    "                self._A[j,k] = self._A[k,j]\n",
    "    \n",
    "        #Update V matrix\n",
    "        for k in range(self._N):\n",
    "            self._V[k,i], self._V[k,j], _ = self._rotation_cordic.run(self._V[k,i], self._V[k,j], theta)\n",
    "    \n",
    "    def do_one_round(self):\n",
    "        for n in range(0, int(self._N/2)):\n",
    "            a = self._round_state[n]\n",
    "            b = self._round_state[int(n+(self._N/2)) % self._N]\n",
    "            p = np.min([a,b])\n",
    "            q = np.max([a,b])\n",
    "            print(\"p = {p}, q = {q}\".format(p=p, q=q))\n",
    "            self.update_matrices(p,q)\n",
    "        \n",
    "        \n",
    "        state_1 = self._round_state[1]\n",
    "        \n",
    "        for n in range(1,self._N-1):\n",
    "            self._round_state[n] = self._round_state[n+1]\n",
    "        self._round_state[self._N-1] = state_1\n",
    "        \n",
    "        print(self._round_state)\n",
    "    \n",
    "    def do_one_sweep(self):\n",
    "        self.init_round_state()\n",
    "        for i in range(self._N-1):\n",
    "            self.do_one_round()\n",
    "    \n",
    "    def run(self, A):\n",
    "        self.get_A(A)\n",
    "        self.init_V()\n",
    "        for i in range(self._n_sweeps):\n",
    "            self.do_one_sweep()\n",
    "        return self._A, self._V\n",
    "        \n",
    "        \n",
    "    \n",
    "            "
   ]
  },
  {
   "cell_type": "code",
   "execution_count": 44,
   "id": "f3290784-c7ec-4aa7-9ead-ee1af009f232",
   "metadata": {},
   "outputs": [],
   "source": [
    "n_iter = 12\n",
    "n_word = 18\n",
    "n_frac = 15\n",
    "is_signed = True\n",
    "N = 4\n",
    "n_sweeps = 2\n",
    "jacobi = Jacobi(n_cordic_iterations = n_iter, n_word = n_word, n_frac = n_frac, is_signed = is_signed, matrix_dim = N,\n",
    "                n_sweeps = n_sweeps)\n"
   ]
  },
  {
   "cell_type": "code",
   "execution_count": 45,
   "id": "69128458-8754-4815-ad1b-720ffa821d50",
   "metadata": {},
   "outputs": [
    {
     "data": {
      "text/plain": [
       "fxp-s16/15([[-0.41067505  0.31756592 -0.76940918 -0.0680542 ]\n",
       "            [ 0.31756592  0.31265259 -0.00466919  0.45288086]\n",
       "            [-0.76940918 -0.00466919  0.89135742 -0.88876343]\n",
       "            [-0.0680542   0.45288086 -0.88876343  0.30484009]])"
      ]
     },
     "execution_count": 45,
     "metadata": {},
     "output_type": "execute_result"
    }
   ],
   "source": [
    "np.random.seed(17)\n",
    "n_word_in = 16\n",
    "A = (np.random.rand(N,N)*2)-1\n",
    "A = (A + A.T)/2\n",
    "A_cp = np.copy(A)\n",
    "A = Fxp(A, n_word = n_word_in, n_frac = n_frac, signed = is_signed, rounding = \"around\")\n",
    "A"
   ]
  },
  {
   "cell_type": "code",
   "execution_count": 46,
   "id": "7419e38e-ffc5-4916-aa42-539602d5f58c",
   "metadata": {},
   "outputs": [],
   "source": [
    "jacobi.get_A(A)\n",
    "jacobi.init_V()\n",
    "jacobi.update_matrices(1,2)"
   ]
  },
  {
   "cell_type": "code",
   "execution_count": 47,
   "id": "f174e944-a96c-48ab-8163-4ed039b764c8",
   "metadata": {},
   "outputs": [
    {
     "name": "stdout",
     "output_type": "stream",
     "text": [
      "p = 0, q = 2\n",
      "p = 1, q = 3\n",
      "[0 2 3 1]\n",
      "p = 0, q = 3\n",
      "p = 1, q = 2\n",
      "[0 3 1 2]\n",
      "p = 0, q = 1\n",
      "p = 2, q = 3\n",
      "[0 1 2 3]\n",
      "p = 0, q = 2\n",
      "p = 1, q = 3\n",
      "[0 2 3 1]\n",
      "p = 0, q = 3\n",
      "p = 1, q = 2\n",
      "[0 3 1 2]\n",
      "p = 0, q = 1\n",
      "p = 2, q = 3\n",
      "[0 1 2 3]\n"
     ]
    }
   ],
   "source": [
    "A_out, W_out = jacobi.run(A)"
   ]
  },
  {
   "cell_type": "code",
   "execution_count": 48,
   "id": "56f76dfb-ee95-4712-90fd-f80097c74a5e",
   "metadata": {},
   "outputs": [
    {
     "name": "stdout",
     "output_type": "stream",
     "text": [
      "[[-1.09124756  0.          0.00125122  0.        ]\n",
      " [ 0.         -0.01687622  0.         -0.00125122]\n",
      " [ 0.00125122  0.          0.42657471  0.        ]\n",
      " [ 0.         -0.00125122  0.          1.78079224]]\n",
      "[[ 0.709198    0.63635254 -0.07077026  0.29678345]\n",
      " [-0.30038452  0.32748413  0.86831665  0.22247314]\n",
      " [ 0.47781372 -0.12960815  0.41046143 -0.7663269 ]\n",
      " [ 0.42355347 -0.68695068  0.27099609  0.5255127 ]]\n"
     ]
    }
   ],
   "source": [
    "np.set_printoptions(suppress=True)\n",
    "print(A_out)\n",
    "print(W_out)"
   ]
  },
  {
   "cell_type": "code",
   "execution_count": 49,
   "id": "af3e4a3c-eaea-46f9-ba12-0bcbb3f86dea",
   "metadata": {},
   "outputs": [
    {
     "name": "stdout",
     "output_type": "stream",
     "text": [
      "Eigenvalues: \n",
      "[ 1.77959787 -1.09085801 -0.01678166  0.42624246]\n",
      "Eigenvectors: \n",
      "[[ 0.28751496  0.71204724 -0.63670741 -0.07019656]\n",
      " [ 0.22551769 -0.29822757 -0.32735224  0.86778027]\n",
      " [-0.77145222  0.46836782  0.13016474  0.41054867]\n",
      " [ 0.52090152  0.42974485  0.685931    0.27107127]]\n"
     ]
    }
   ],
   "source": [
    "w,v = np.linalg.eig(A_cp)\n",
    "print(\"Eigenvalues: \")\n",
    "print(w)\n",
    "print(\"Eigenvectors: \")\n",
    "print(v)"
   ]
  },
  {
   "cell_type": "code",
   "execution_count": 50,
   "id": "da2f16ff-2782-43d2-a9a4-cf3bc0becaf7",
   "metadata": {},
   "outputs": [],
   "source": [
    "def sort_eigenvectors(v):\n",
    "    x = v[:,v[0,:].argsort()]\n",
    "    return x"
   ]
  },
  {
   "cell_type": "code",
   "execution_count": 51,
   "id": "613fd223-bd19-4740-9cd7-f017cd021517",
   "metadata": {},
   "outputs": [
    {
     "name": "stdout",
     "output_type": "stream",
     "text": [
      "[[0.07019656 0.28751496 0.63670741 0.71204724]\n",
      " [0.86778027 0.22551769 0.32735224 0.29822757]\n",
      " [0.41054867 0.77145222 0.13016474 0.46836782]\n",
      " [0.27107127 0.52090152 0.685931   0.42974485]]\n",
      "[[0.07077026 0.29678345 0.63635254 0.709198  ]\n",
      " [0.86831665 0.22247314 0.32748413 0.30038452]\n",
      " [0.41046143 0.7663269  0.12960815 0.47781372]\n",
      " [0.27099609 0.5255127  0.68695068 0.42355347]]\n",
      "[[-0.0005737053818044568 -0.009268484192489934 0.0003548669581704411\n",
      "  0.00284923938313697]\n",
      " [-0.0005363773711719588 0.0030445430511147342 -0.00013189224264203991\n",
      "  -0.002156953646657467]\n",
      " [8.724026608153412e-05 0.005125310783192671 0.0005565840060461902\n",
      "  -0.009445902042036936]\n",
      " [7.517689532116067e-05 -0.004611170603065262 -0.001019687141792791\n",
      "  0.006191382959980007]]\n",
      "0.011507129231176139\n"
     ]
    }
   ],
   "source": [
    "real = sort_eigenvectors(np.abs(v))\n",
    "calculated = sort_eigenvectors(np.abs(W_out))\n",
    "print(real)\n",
    "print(calculated)\n",
    "err = np.array(real-calculated)\n",
    "print(err)\n",
    "print(np.sum(np.abs(err))/N)"
   ]
  },
  {
   "cell_type": "code",
   "execution_count": null,
   "id": "b0f3ea6d-1354-460f-956d-ce87883542f7",
   "metadata": {},
   "outputs": [],
   "source": [
    "0.0006639494933603773\n",
    "0.0017322439211510943\n",
    "0.0006101127413154078"
   ]
  }
 ],
 "metadata": {
  "kernelspec": {
   "display_name": "Python 3 (ipykernel)",
   "language": "python",
   "name": "python3"
  },
  "language_info": {
   "codemirror_mode": {
    "name": "ipython",
    "version": 3
   },
   "file_extension": ".py",
   "mimetype": "text/x-python",
   "name": "python",
   "nbconvert_exporter": "python",
   "pygments_lexer": "ipython3",
   "version": "3.8.10"
  }
 },
 "nbformat": 4,
 "nbformat_minor": 5
}
