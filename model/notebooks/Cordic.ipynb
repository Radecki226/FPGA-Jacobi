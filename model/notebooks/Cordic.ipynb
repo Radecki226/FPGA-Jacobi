{
 "cells": [
  {
   "cell_type": "code",
   "execution_count": 1,
   "id": "af7955e0-23e9-4877-b1d6-769fa3ca466f",
   "metadata": {},
   "outputs": [],
   "source": [
    "import numpy as np\n",
    "from fxpmath import Fxp\n",
    "import matplotlib.pyplot as plt\n",
    "from FPGAJacobi.Cordic import Cordic"
   ]
  },
  {
   "cell_type": "markdown",
   "id": "613865c1-0ce3-4bb8-8083-9b8c6a6df384",
   "metadata": {
    "tags": []
   },
   "source": [
    "## Rotation\n"
   ]
  },
  {
   "cell_type": "code",
   "execution_count": 2,
   "id": "5ab973dc-37df-4b85-ada9-f8f7f709cb68",
   "metadata": {},
   "outputs": [],
   "source": [
    "N_WORD = 20\n",
    "N_FRAC = 15\n",
    "IS_SIGNED = True\n",
    "MODE = \"rotation\"\n",
    "N_ITER = 15\n",
    "K =  0.607252935\n",
    "x = Fxp(1, IS_SIGNED, N_WORD, N_FRAC)\n",
    "y = Fxp(0, IS_SIGNED, N_WORD, N_FRAC)\n",
    "z = Fxp(np.pi/3, IS_SIGNED, N_WORD, N_FRAC)\n",
    "\n",
    "cordic = Cordic(mode = MODE, \n",
    "                n_iterations = 12, \n",
    "                n_word = 17, \n",
    "                n_frac = 15, \n",
    "                is_signed = True)"
   ]
  },
  {
   "cell_type": "code",
   "execution_count": 3,
   "id": "5603b681-33d9-453f-8db6-b47f97511b2f",
   "metadata": {},
   "outputs": [
    {
     "name": "stdout",
     "output_type": "stream",
     "text": [
      "cos = 0.500213623046875\n",
      "sin = 0.86590576171875\n"
     ]
    }
   ],
   "source": [
    "x_out, y_out, z_out = cordic.run(x, y, z)\n",
    "print(\"cos = {val}\".format(val = x_out))\n",
    "print(\"sin = {val}\".format(val = y_out))"
   ]
  },
  {
   "cell_type": "markdown",
   "id": "e6069468-e0ef-49ff-84ed-b98b27c32d53",
   "metadata": {
    "jp-MarkdownHeadingCollapsed": true,
    "tags": []
   },
   "source": [
    "### Irrelevant, experiments"
   ]
  },
  {
   "cell_type": "code",
   "execution_count": 4,
   "id": "74838f35-b03a-454e-a795-dc5f6c8ff02e",
   "metadata": {},
   "outputs": [],
   "source": [
    "x = Fxp(1, IS_SIGNED, N_WORD, N_FRAC)\n",
    "y = Fxp(0, IS_SIGNED, N_WORD, N_FRAC)\n",
    "z = Fxp(np.pi/3, IS_SIGNED, N_WORD, N_FRAC)"
   ]
  },
  {
   "cell_type": "code",
   "execution_count": 6,
   "id": "1d681ef9-adce-48b4-a34b-e3bf5dab08ea",
   "metadata": {},
   "outputs": [
    {
     "data": {
      "image/png": "[encoded data removed]",
      "text/plain": [
       "<Figure size 432x288 with 1 Axes>"
      ]
     },
     "metadata": {
      "needs_background": "light"
     },
     "output_type": "display_data"
    }
   ],
   "source": [
    "#result vs number of iter\n",
    "reference = np.zeros(32)\n",
    "cordic = np.zeros(32)\n",
    "for i in range(1,32):\n",
    "    reference[i] = np.cos(np.pi/3)\n",
    "    cordic[i] = Cordic(\"rotation\", i, N_WORD, N_FRAC, True).run(x,y,z)[0]\n",
    "plt.semilogy(reference[16:])\n",
    "plt.semilogy(cordic[16:])\n",
    "plt.show()"
   ]
  },
  {
   "cell_type": "code",
   "execution_count": null,
   "id": "0e101cc7-64f1-4f27-8b9d-d78786e946e7",
   "metadata": {},
   "outputs": [
    {
     "data": {
      "image/png": "[encoded data removed]",
      "text/plain": [
       "<Figure size 432x288 with 1 Axes>"
      ]
     },
     "metadata": {
      "needs_background": "light"
     },
     "output_type": "display_data"
    }
   ],
   "source": [
    "#result vs number of bits\n",
    "reference = np.zeros(32)\n",
    "cordic = np.zeros(32)\n",
    "for i in range(1,32):\n",
    "    x = Fxp(1, IS_SIGNED, i+2, i)\n",
    "    y = Fxp(0, IS_SIGNED, i+2, i)\n",
    "    z = Fxp(np.pi/3, IS_SIGNED, i+2, i)\n",
    "    reference[i] = np.cos(np.pi/3)\n",
    "    cordic[i] = Cordic(\"rotation\", i, i+2, i, True).run(x,y,z)[0]\n",
    "plt.plot(reference[12:])\n",
    "plt.plot(cordic[12:])\n",
    "plt.show()"
   ]
  },
  {
   "cell_type": "markdown",
   "id": "430ab944-4c10-451f-976d-f793a27c88bc",
   "metadata": {},
   "source": [
    "## Vectoring"
   ]
  },
  {
   "cell_type": "code",
   "execution_count": 49,
   "id": "9d7b7392-d1b6-4e38-a1bc-ed4f5b655afb",
   "metadata": {},
   "outputs": [],
   "source": [
    "N_WORD = 18\n",
    "N_FRAC = 15\n",
    "IS_SIGNED = True\n",
    "MODE = \"vectoring\"\n",
    "N_ITER = 12\n",
    "K =  0.607252935\n",
    "x = Fxp(0.8, IS_SIGNED, N_WORD, N_FRAC)\n",
    "y = Fxp(0.95, IS_SIGNED, N_WORD, N_FRAC)\n",
    "z = Fxp(0, IS_SIGNED, N_WORD, N_FRAC)\n",
    "\n",
    "cordic = Cordic(mode = MODE, \n",
    "                n_iterations = 12, \n",
    "                n_word = 18, \n",
    "                n_frac = 15, \n",
    "                is_signed = True)"
   ]
  },
  {
   "cell_type": "code",
   "execution_count": 50,
   "id": "bd576950-7c1b-460f-8c7d-e459acd4e75a",
   "metadata": {},
   "outputs": [
    {
     "name": "stdout",
     "output_type": "stream",
     "text": [
      "magnitude = 1.241943359375\n",
      "arctan = 0.87042236328125\n",
      "\tdtype\t\t=\tfxp-s18/15\n",
      "\tValue\t\t=\t0.87042236328125\n",
      "\n",
      "\tSigned\t\t=\tTrue\n",
      "\tWord bits\t=\t18\n",
      "\tFract bits\t=\t15\n",
      "\tInt bits\t=\t2\n",
      "\tVal data type\t=\t<class 'float'>\n",
      "\n",
      "\tUpper\t\t=\t3.999969482421875\n",
      "\tLower\t\t=\t-4.0\n",
      "\tPrecision\t=\t3.0517578125e-05\n",
      "\tOverflow\t=\tsaturate\n",
      "\tRounding\t=\ttrunc\n",
      "\tShifting\t=\texpand\n",
      "\n"
     ]
    }
   ],
   "source": [
    "x_out, y_out, z_out = cordic.run(x,y,z)\n",
    "print(\"magnitude = {val}\".format(val = x_out))\n",
    "print(\"arctan = {val}\".format(val = z_out))\n",
    "z_out.info(verbose=3)"
   ]
  },
  {
   "cell_type": "code",
   "execution_count": 50,
   "id": "7c75f8d8-8bec-4884-9f96-c335b82be80f",
   "metadata": {},
   "outputs": [
    {
     "name": "stdout",
     "output_type": "stream",
     "text": [
      "[[0.74788944 0.14665997 0.88288654]\n",
      " [0.51845061 0.17066077 0.6041508 ]\n",
      " [0.23953802 0.00970692 0.17696373]]\n",
      "[[0.74786377 0.14663696 0.88287354]\n",
      " [0.51843262 0.1706543  0.60412598]\n",
      " [0.23953247 0.00970459 0.17694092]]\n"
     ]
    },
    {
     "data": {
      "text/plain": [
       "fxp-s17/15([[0.74786377 0.14663696 0.88287354]\n",
       "            [0.51843262 0.1706543  1.99996948]\n",
       "            [0.23953247 0.00970459 0.17694092]])"
      ]
     },
     "execution_count": 50,
     "metadata": {},
     "output_type": "execute_result"
    }
   ],
   "source": [
    "arr = np.random.rand(3,3)\n",
    "arrfxp = Fxp(np.zeros((3,3)), n_word = 16, n_frac = 15, signed = True)\n",
    "arrfxp2 = Fxp(np.zeros((3,3)), n_word = 17, n_frac = 15, signed = True) \n",
    "arrfxp.set_val(arr)\n",
    "arrfxp2.equal(arrfxp)\n",
    "arrfxp2[1,2] = 3\n",
    "print(arr)\n",
    "print(arrfxp)\n",
    "arrfxp2"
   ]
  },
  {
   "cell_type": "code",
   "execution_count": 2,
   "id": "3f3de83f-d9af-4811-8fd0-9415f1edb0be",
   "metadata": {},
   "outputs": [],
   "source": [
    "arctan = Fxp(np.array([np.arctan(1/(2**i)) for i in range(16)]),\n",
    "                     n_word=20, n_frac=15, signed=True, rounding = \"around\")"
   ]
  },
  {
   "cell_type": "code",
   "execution_count": 7,
   "id": "f3702087-4b31-49bb-b85a-9ae52ffe3e60",
   "metadata": {},
   "outputs": [
    {
     "name": "stdout",
     "output_type": "stream",
     "text": [
      "['0x06488', '0x03B59', '0x01F5B', '0x00FEB', '0x007FD', '0x00400', '0x00200', '0x00100', '0x00080', '0x00040', '0x00020', '0x00010', '0x00008', '0x00004', '0x00002', '0x00001']\n"
     ]
    }
   ],
   "source": [
    "np.set_printoptions(suppress=True)\n",
    "print(arctan.hex())"
   ]
  },
  {
   "cell_type": "code",
   "execution_count": null,
   "id": "fd16009b-8743-4238-ad56-ae5cc17dc2a8",
   "metadata": {},
   "outputs": [],
   "source": []
  }
 ],
 "metadata": {
  "kernelspec": {
   "display_name": "Python 3 (ipykernel)",
   "language": "python",
   "name": "python3"
  },
  "language_info": {
   "codemirror_mode": {
    "name": "ipython",
    "version": 3
   },
   "file_extension": ".py",
   "mimetype": "text/x-python",
   "name": "python",
   "nbconvert_exporter": "python",
   "pygments_lexer": "ipython3",
   "version": "3.8.10"
  }
 },
 "nbformat": 4,
 "nbformat_minor": 5
}
