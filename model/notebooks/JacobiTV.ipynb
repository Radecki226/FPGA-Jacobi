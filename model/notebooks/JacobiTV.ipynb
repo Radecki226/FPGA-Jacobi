{
 "cells": [
  {
   "cell_type": "code",
   "execution_count": 1,
   "id": "59b666fc-ebc8-4542-b6d5-805599407314",
   "metadata": {},
   "outputs": [],
   "source": [
    "import numpy as np\n",
    "from fxpmath import Fxp\n",
    "import matplotlib.pyplot as plt\n",
    "from FPGAJacobi.Jacobi import Jacobi_TV_generator"
   ]
  },
  {
   "cell_type": "code",
   "execution_count": 2,
   "id": "dd51f0a1-00e4-4641-b13c-90b55396ad45",
   "metadata": {},
   "outputs": [],
   "source": [
    "n_matrices = 2\n",
    "name = \"class test\"\n",
    "\n",
    "n_iter = 16\n",
    "\n",
    "n_word = 20\n",
    "n_frac = 15\n",
    "is_signed = True\n",
    "\n",
    "N = 8\n",
    "n_sweeps = 4"
   ]
  },
  {
   "cell_type": "code",
   "execution_count": 3,
   "id": "998d60f5-981a-4b08-98e4-804298872ce1",
   "metadata": {},
   "outputs": [],
   "source": [
    "tv_gen = Jacobi_TV_generator(name, n_matrices, n_iter, n_word, n_frac, is_signed, N, n_sweeps)"
   ]
  },
  {
   "cell_type": "code",
   "execution_count": null,
   "id": "a193d07a-a687-4507-9d52-ffea9bc7d522",
   "metadata": {},
   "outputs": [
    {
     "name": "stdout",
     "output_type": "stream",
     "text": [
      "[WinError 183] Nie można utworzyć pliku, który już istnieje: '..//TV//class test'\n"
     ]
    },
    {
     "name": "stderr",
     "output_type": "stream",
     "text": [
      "  0%|                                                                                            | 0/2 [00:00<?, ?it/s]"
     ]
    },
    {
     "name": "stdout",
     "output_type": "stream",
     "text": [
      "Sweep 2/3\r"
     ]
    }
   ],
   "source": [
    "tv_gen.run()"
   ]
  },
  {
   "cell_type": "code",
   "execution_count": null,
   "id": "9b9608a3-9160-457b-94d7-6a480e5e0e74",
   "metadata": {},
   "outputs": [],
   "source": []
  }
 ],
 "metadata": {
  "kernelspec": {
   "display_name": "Python 3 (ipykernel)",
   "language": "python",
   "name": "python3"
  },
  "language_info": {
   "codemirror_mode": {
    "name": "ipython",
    "version": 3
   },
   "file_extension": ".py",
   "mimetype": "text/x-python",
   "name": "python",
   "nbconvert_exporter": "python",
   "pygments_lexer": "ipython3",
   "version": "3.8.10"
  }
 },
 "nbformat": 4,
 "nbformat_minor": 5
}
